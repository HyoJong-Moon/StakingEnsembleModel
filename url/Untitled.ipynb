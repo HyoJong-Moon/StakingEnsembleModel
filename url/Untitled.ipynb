{
 "cells": [
  {
   "cell_type": "code",
   "execution_count": 46,
   "metadata": {
    "ExecuteTime": {
     "end_time": "2020-07-16T04:34:34.481910Z",
     "start_time": "2020-07-16T04:34:34.471908Z"
    }
   },
   "outputs": [],
   "source": [
    "import tensorflow as tf\n",
    "import pandas as pd\n",
    "import numpy as np\n",
    "\n",
    "from sklearn import model_selection\n",
    "from string import printable\n",
    "from keras.preprocessing import sequence\n",
    "\n",
    "class Preprocessor:\n",
    "    def __init__(self):\n",
    "        pass\n",
    "\n",
    "    @staticmethod\n",
    "    def load_data_binary(data_num):\n",
    "        \"\"\" Load and pre-process data.\n",
    "\n",
    "        1) Load data from dir\n",
    "        2) Tokenizing\n",
    "        3) Padding\n",
    "\n",
    "        return train and test data\n",
    "\n",
    "        \"\"\"\n",
    "        train_num = int(data_num*0.8)\n",
    "        test_num = int(data_num*0.2)\n",
    "        train_half = int(train_num/2)\n",
    "        \n",
    "        # Load data\n",
    "        data_home = '../../data/'\n",
    "        df = pd.read_csv(data_home + 'url_label.csv', encoding='ISO-8859-1', sep=',')\n",
    "        \n",
    "        class_0 = df['class'] == 0\n",
    "        class_1 = df['class'] == 1\n",
    "        \n",
    "        class_0_df = df[class_0].sample(int(data_num/2))\n",
    "        class_1_df = df[class_1].sample(int(data_num/2))\n",
    "        \n",
    "        train_df = pd.concat([class_0_df[:train_half], class_1_df[:train_half]])\n",
    "        test_df = pd.concat([class_0_df[train_half:], class_1_df[train_half:]])\n",
    "        \n",
    "        def preprocessing(df, data_num):\n",
    "            # Extract sample data 50000\n",
    "            #df = df.sample(n=data_num)\n",
    "            # Tokenizing domain string on character level\n",
    "            # domain string to vector\n",
    "            url_int_tokens = [[printable.index(x) + 1 for x in url if x in printable] for url in df.url]\n",
    "\n",
    "            # Padding domain integer max_len=64\n",
    "            # 최대길이 80으로 지정\n",
    "            max_len = 80\n",
    "            x = sequence.pad_sequences(url_int_tokens, maxlen=max_len)\n",
    "\n",
    "            # Lable data\n",
    "            label_arr = []\n",
    "            for i in df['class']:\n",
    "                if i == 0:\n",
    "                    label_arr.append(0)\n",
    "                else :\n",
    "                    label_arr.append(1)\n",
    "\n",
    "            y = np.array(label_arr)\n",
    "\n",
    "            x_data = pd.DataFrame(x.reshape(data_num, 80))\n",
    "            y_data = pd.DataFrame(y.reshape(data_num, 1))\n",
    "\n",
    "            return x_data, y_data\n",
    "        \n",
    "        x_train, y_train = preprocessing(train_df, train_num)\n",
    "        x_test, y_test = preprocessing(test_df, test_num)\n",
    "        \n",
    "        print(\"x_train: \", x_train.shape)\n",
    "        print(\"y_train: \", y_train.shape)\n",
    "        print(\"x_test: \", x_test.shape)\n",
    "        print(\"y_test: \", y_test.shape)\n",
    "        \n",
    "        return x_train, y_train, x_test, y_test"
   ]
  },
  {
   "cell_type": "code",
   "execution_count": 47,
   "metadata": {
    "ExecuteTime": {
     "end_time": "2020-07-16T04:34:36.915341Z",
     "start_time": "2020-07-16T04:34:35.379090Z"
    }
   },
   "outputs": [
    {
     "name": "stdout",
     "output_type": "stream",
     "text": [
      "x_train:  (8000, 80)\n",
      "y_train:  (8000, 1)\n",
      "x_test:  (2000, 80)\n",
      "y_test:  (2000, 1)\n"
     ]
    }
   ],
   "source": [
    "preporcessor = Preprocessor.load_data_binary(10000)"
   ]
  },
  {
   "cell_type": "code",
   "execution_count": null,
   "metadata": {},
   "outputs": [],
   "source": []
  },
  {
   "cell_type": "code",
   "execution_count": null,
   "metadata": {},
   "outputs": [],
   "source": []
  },
  {
   "cell_type": "code",
   "execution_count": null,
   "metadata": {},
   "outputs": [],
   "source": []
  }
 ],
 "metadata": {
  "kernelspec": {
   "display_name": "Python 3",
   "language": "python",
   "name": "python3"
  },
  "language_info": {
   "codemirror_mode": {
    "name": "ipython",
    "version": 3
   },
   "file_extension": ".py",
   "mimetype": "text/x-python",
   "name": "python",
   "nbconvert_exporter": "python",
   "pygments_lexer": "ipython3",
   "version": "3.7.7"
  },
  "toc": {
   "base_numbering": 1,
   "nav_menu": {},
   "number_sections": true,
   "sideBar": true,
   "skip_h1_title": false,
   "title_cell": "Table of Contents",
   "title_sidebar": "Contents",
   "toc_cell": false,
   "toc_position": {},
   "toc_section_display": true,
   "toc_window_display": false
  }
 },
 "nbformat": 4,
 "nbformat_minor": 4
}
