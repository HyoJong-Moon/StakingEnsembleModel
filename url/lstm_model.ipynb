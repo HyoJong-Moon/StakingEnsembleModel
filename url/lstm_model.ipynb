{
 "cells": [
  {
   "cell_type": "code",
   "execution_count": 1,
   "metadata": {
    "ExecuteTime": {
     "end_time": "2020-07-20T07:21:35.698192Z",
     "start_time": "2020-07-20T07:21:34.124919Z"
    }
   },
   "outputs": [
    {
     "name": "stderr",
     "output_type": "stream",
     "text": [
      "Using TensorFlow backend.\n"
     ]
    }
   ],
   "source": [
    "# Load Libraries\n",
    "import warnings\n",
    "import keras\n",
    "import tensorflow as tf\n",
    "from keras import backend as K\n",
    "from keras import regularizers\n",
    "from keras.layers import Input, ELU, Embedding, BatchNormalization\n",
    "from keras.models import Model\n",
    "from keras.optimizers import Adam\n",
    "from keras.layers import Embedding, LSTM\n",
    "from keras.layers.core import Dense, Dropout, Flatten\n",
    "\n",
    "from model_evaluator import Evaluator\n",
    "from model_preprocessor import Preprocessor"
   ]
  },
  {
   "cell_type": "code",
   "execution_count": 2,
   "metadata": {
    "ExecuteTime": {
     "end_time": "2020-07-20T07:21:35.704193Z",
     "start_time": "2020-07-20T07:21:35.699192Z"
    }
   },
   "outputs": [],
   "source": [
    "# LSTM Model\n",
    "def lstm(max_len=80, emb_dim=32, max_vocab_len=128, W_reg=regularizers.l2(1e-4)):\n",
    "    \"\"\"LSTM with Attention model with the Keras Sequential model\"\"\"\n",
    "\n",
    "    input = Input(shape=(max_len,), dtype='int32', name='lstm_input')\n",
    "    \n",
    "    emb = Embedding(input_dim=max_vocab_len, output_dim=emb_dim, input_length=max_len, W_regularizer=W_reg)(input)\n",
    "    emb = Dropout(0.2)(emb)\n",
    "    \n",
    "    lstm = LSTM(units=128, return_sequences=True)(emb)\n",
    "    lstm = Dropout(0.5)(lstm)\n",
    "    lstm = Flatten()(lstm)\n",
    "    \n",
    "    h1 = Dense(8576, activation='relu')(lstm)\n",
    "    h1 = Dropout(0.5)(h1)\n",
    "    \n",
    "    output = Dense(1, activation='sigmoid', name='lstm_output')(h1)\n",
    "    \n",
    "    model = Model(input=[input], output=[output])\n",
    "   \n",
    "    return model"
   ]
  },
  {
   "cell_type": "code",
   "execution_count": 3,
   "metadata": {
    "ExecuteTime": {
     "end_time": "2020-07-20T07:21:37.427244Z",
     "start_time": "2020-07-20T07:21:35.865633Z"
    }
   },
   "outputs": [
    {
     "name": "stdout",
     "output_type": "stream",
     "text": [
      "                                                       url    label  class\n",
      "895657   http://umquartodecena.com/EN_en/xerox/Inv/ziol...  malware      1\n",
      "765141   https://informapp.in/xvyf69e/v8vq6-h7ekfy-wliy...  malware      1\n",
      "1098599                       http://92.115.94.82:16516/.i  malware      1\n",
      "252608   http://185.244.25.194:80/dwabniduawdbwad/dedho...  malware      1\n",
      "474754   http://kidplearn.co.th/US/scan/qMrqi-Er_VlSOjH...  malware      1\n",
      "...                                                    ...      ...    ...\n",
      "103245             http://138.197.215.81/salviatelnet.arm4  malware      1\n",
      "76496    https://icshongkong.com/wp-content/uploads/202...  malware      1\n",
      "322150                  http://111.42.102.122:49624/Mozi.m  malware      1\n",
      "462579              http://207.154.193.227/bins/Alaric.ppc  malware      1\n",
      "652731              http://dq9wq1wdq9wd1.com/HUN/uho8.yarn  malware      1\n",
      "\n",
      "[5000 rows x 3 columns]\n",
      "x_train:  (8000, 80)\n",
      "y_train:  (8000, 1)\n",
      "x_test:  (2000, 80)\n",
      "y_test:  (2000, 1)\n"
     ]
    }
   ],
   "source": [
    "x_train, x_test, y_train, y_test = Preprocessor.load_data_binary(10000)"
   ]
  },
  {
   "cell_type": "code",
   "execution_count": 4,
   "metadata": {
    "ExecuteTime": {
     "end_time": "2020-07-20T07:30:44.453082Z",
     "start_time": "2020-07-20T07:21:37.428245Z"
    }
   },
   "outputs": [
    {
     "name": "stdout",
     "output_type": "stream",
     "text": [
      "WARNING:tensorflow:From c:\\users\\hyojong\\anaconda3\\envs\\ml\\lib\\site-packages\\tensorflow\\python\\ops\\resource_variable_ops.py:435: colocate_with (from tensorflow.python.framework.ops) is deprecated and will be removed in a future version.\n",
      "Instructions for updating:\n",
      "Colocations handled automatically by placer.\n"
     ]
    },
    {
     "name": "stderr",
     "output_type": "stream",
     "text": [
      "c:\\users\\hyojong\\anaconda3\\envs\\ml\\lib\\site-packages\\ipykernel_launcher.py:7: UserWarning: Update your `Embedding` call to the Keras 2 API: `Embedding(input_dim=128, output_dim=32, input_length=80, embeddings_regularizer=<keras.reg...)`\n",
      "  import sys\n"
     ]
    },
    {
     "name": "stdout",
     "output_type": "stream",
     "text": [
      "WARNING:tensorflow:From c:\\users\\hyojong\\anaconda3\\envs\\ml\\lib\\site-packages\\tensorflow\\python\\ops\\math_ops.py:3066: to_int32 (from tensorflow.python.ops.math_ops) is deprecated and will be removed in a future version.\n",
      "Instructions for updating:\n",
      "Use tf.cast instead.\n"
     ]
    },
    {
     "name": "stderr",
     "output_type": "stream",
     "text": [
      "c:\\users\\hyojong\\anaconda3\\envs\\ml\\lib\\site-packages\\ipykernel_launcher.py:19: UserWarning: Update your `Model` call to the Keras 2 API: `Model(inputs=[<tf.Tenso..., outputs=[<tf.Tenso...)`\n"
     ]
    },
    {
     "name": "stdout",
     "output_type": "stream",
     "text": [
      "Train on 7120 samples, validate on 880 samples\n",
      "Epoch 1/5\n",
      "7120/7120 [==============================] - 110s 15ms/step - loss: 0.4279 - accuracy: 0.7965 - binary_accuracy: 0.6976 - precision: 0.8223 - recall: 0.6166 - fmeasure: 0.6717 - val_loss: 0.2012 - val_accuracy: 0.9136 - val_binary_accuracy: 0.8036 - val_precision: 1.0000 - val_recall: 0.9141 - val_fmeasure: 0.9548\n",
      "Epoch 2/5\n",
      "7120/7120 [==============================] - 108s 15ms/step - loss: 0.2248 - accuracy: 0.9060 - binary_accuracy: 0.8361 - precision: 0.9034 - recall: 0.8839 - fmeasure: 0.8904 - val_loss: 0.2616 - val_accuracy: 0.8886 - val_binary_accuracy: 0.8561 - val_precision: 1.0000 - val_recall: 0.8880 - val_fmeasure: 0.9403\n",
      "Epoch 3/5\n",
      "7120/7120 [==============================] - 108s 15ms/step - loss: 0.1761 - accuracy: 0.9288 - binary_accuracy: 0.8686 - precision: 0.9299 - recall: 0.9082 - fmeasure: 0.9167 - val_loss: 0.1288 - val_accuracy: 0.9545 - val_binary_accuracy: 0.8805 - val_precision: 1.0000 - val_recall: 0.9550 - val_fmeasure: 0.9768\n",
      "Epoch 4/5\n",
      "7120/7120 [==============================] - 109s 15ms/step - loss: 0.1512 - accuracy: 0.9426 - binary_accuracy: 0.8892 - precision: 0.9393 - recall: 0.9275 - fmeasure: 0.9321 - val_loss: 0.1789 - val_accuracy: 0.9318 - val_binary_accuracy: 0.8962 - val_precision: 1.0000 - val_recall: 0.9323 - val_fmeasure: 0.9647\n",
      "Epoch 5/5\n",
      "7120/7120 [==============================] - 108s 15ms/step - loss: 0.1301 - accuracy: 0.9531 - binary_accuracy: 0.9021 - precision: 0.9530 - recall: 0.9383 - fmeasure: 0.9448 - val_loss: 0.1421 - val_accuracy: 0.9432 - val_binary_accuracy: 0.9073 - val_precision: 1.0000 - val_recall: 0.9438 - val_fmeasure: 0.9708\n"
     ]
    },
    {
     "data": {
      "text/plain": [
       "<keras.callbacks.callbacks.History at 0x13d21298e48>"
      ]
     },
     "execution_count": 4,
     "metadata": {},
     "output_type": "execute_result"
    }
   ],
   "source": [
    "epochs = 5\n",
    "batch_size = 64\n",
    "\n",
    "model = lstm()\n",
    "adam = Adam(lr=1e-4, beta_1=0.9, beta_2=0.999, epsilon=1e-08, decay=0.0)\n",
    "model.compile(optimizer=adam, loss='binary_crossentropy',\n",
    "              metrics=['accuracy', tf.keras.metrics.BinaryAccuracy(),\n",
    "                       Evaluator.precision, Evaluator.recall, Evaluator.fmeasure])\n",
    "\n",
    "model.fit(x_train, y_train, epochs=epochs, batch_size=batch_size, validation_split=0.11)"
   ]
  },
  {
   "cell_type": "code",
   "execution_count": 5,
   "metadata": {
    "ExecuteTime": {
     "end_time": "2020-07-20T07:30:45.016868Z",
     "start_time": "2020-07-20T07:30:44.454084Z"
    }
   },
   "outputs": [],
   "source": [
    "model_json = model.to_json()\n",
    "with open(\"./saved_model/lstm.json\", \"w\") as json_file:\n",
    "    json_file.write(model_json)\n",
    "model.save_weights(\"./saved_model/lstm.h5\")"
   ]
  },
  {
   "cell_type": "code",
   "execution_count": null,
   "metadata": {},
   "outputs": [],
   "source": []
  }
 ],
 "metadata": {
  "kernelspec": {
   "display_name": "Python 3",
   "language": "python",
   "name": "python3"
  },
  "language_info": {
   "codemirror_mode": {
    "name": "ipython",
    "version": 3
   },
   "file_extension": ".py",
   "mimetype": "text/x-python",
   "name": "python",
   "nbconvert_exporter": "python",
   "pygments_lexer": "ipython3",
   "version": "3.7.7"
  },
  "toc": {
   "base_numbering": 1,
   "nav_menu": {},
   "number_sections": true,
   "sideBar": true,
   "skip_h1_title": false,
   "title_cell": "Table of Contents",
   "title_sidebar": "Contents",
   "toc_cell": false,
   "toc_position": {},
   "toc_section_display": true,
   "toc_window_display": false
  }
 },
 "nbformat": 4,
 "nbformat_minor": 4
}
