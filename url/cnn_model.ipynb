{
 "cells": [
  {
   "cell_type": "code",
   "execution_count": 1,
   "metadata": {
    "ExecuteTime": {
     "end_time": "2020-07-20T07:03:48.399293Z",
     "start_time": "2020-07-20T07:03:44.097792Z"
    }
   },
   "outputs": [
    {
     "name": "stderr",
     "output_type": "stream",
     "text": [
      "Using TensorFlow backend.\n"
     ]
    }
   ],
   "source": [
    "# Load Libraries\n",
    "import warnings\n",
    "from datetime import datetime\n",
    "\n",
    "import tensorflow as tf\n",
    "from keras import backend as K\n",
    "from keras import regularizers\n",
    "from keras.callbacks import EarlyStopping\n",
    "from keras.callbacks import ModelCheckpoint\n",
    "from keras.layers import Input, ELU, Embedding, BatchNormalization, Convolution1D, MaxPooling1D, concatenate\n",
    "from keras.layers.core import Dense, Dropout, Lambda\n",
    "from keras.models import Model\n",
    "from keras.optimizers import Adam\n",
    "from keras.models import model_from_json\n",
    "from model_evaluator import Evaluator\n",
    "from model_preprocessor import Preprocessor\n",
    "from sklearn import model_selection\n",
    "import time\n",
    "\n",
    "warnings.filterwarnings(\"ignore\")\n",
    "config = tf.ConfigProto()\n",
    "config.gpu_options.per_process_gpu_memory_fraction = 0.9\n",
    "K.tensorflow_backend.set_session(tf.Session(config=config))"
   ]
  },
  {
   "cell_type": "code",
   "execution_count": 2,
   "metadata": {
    "ExecuteTime": {
     "end_time": "2020-07-20T07:03:48.410295Z",
     "start_time": "2020-07-20T07:03:48.400293Z"
    }
   },
   "outputs": [],
   "source": [
    "def cnn(max_len=80, emb_dim=32, max_vocab_len=128, W_reg=regularizers.l2(1e-4)):\n",
    "    \"\"\"CNN model with the Keras functional API\"\"\"\n",
    "\n",
    "    # Input\n",
    "    main_input = Input(shape=(max_len,), dtype='int32', name='cnn_input')\n",
    "\n",
    "    # Embedding layer\n",
    "    emb = Embedding(input_dim=max_vocab_len, output_dim=emb_dim, input_length=max_len, W_regularizer=W_reg)(main_input)\n",
    "    emb = Dropout(0.2)(emb)\n",
    "\n",
    "    def sum_1d(X):\n",
    "        return K.sum(X, axis=1)\n",
    "\n",
    "    def get_conv_layer(emb, kernel_size=5, filters=256):\n",
    "        # Conv layer\n",
    "        conv = Convolution1D(kernel_size=kernel_size, filters=filters, border_mode='same')(emb)\n",
    "        conv = ELU()(conv)\n",
    "        conv = MaxPooling1D(5)(conv)\n",
    "        conv = Lambda(sum_1d, output_shape=(filters,))(conv)\n",
    "        conv = Dropout(0.5)(conv)\n",
    "        return conv\n",
    "\n",
    "    # Multiple Conv Layers\n",
    "    # 커널 사이즈를 다르게 한 conv\n",
    "    conv1 = get_conv_layer(emb, kernel_size=2, filters=256)\n",
    "    conv2 = get_conv_layer(emb, kernel_size=3, filters=256)\n",
    "    conv3 = get_conv_layer(emb, kernel_size=4, filters=256)\n",
    "    conv4 = get_conv_layer(emb, kernel_size=5, filters=256)\n",
    "\n",
    "    # Fully Connected Layers\n",
    "    # 위 결과 합침\n",
    "    merged = concatenate([conv1, conv2, conv3, conv4], axis=1)\n",
    "\n",
    "    hidden1 = Dense(1024)(merged)\n",
    "    hidden1 = ELU()(hidden1)\n",
    "    hidden1 = BatchNormalization(mode=0)(hidden1)\n",
    "    hidden1 = Dropout(0.5)(hidden1)\n",
    "\n",
    "    hidden2 = Dense(256)(hidden1)\n",
    "    hidden2 = ELU()(hidden2)\n",
    "    hidden2 = BatchNormalization(mode=0)(hidden2)\n",
    "    hidden2 = Dropout(0.5)(hidden2)\n",
    "\n",
    "    hidden3 = Dense(64)(hidden2)\n",
    "    hidden3 = ELU()(hidden3)\n",
    "    hidden3 = BatchNormalization(mode=0)(hidden3)\n",
    "    hidden3 = Dropout(0.5)(hidden3)\n",
    "\n",
    "    # Output layer (last fully connected layer)\n",
    "    # 마지막 클래스 결정하는 layer\n",
    "    output = Dense(1, activation='sigmoid', name='cnn_output')(hidden3)\n",
    "\n",
    "    model = Model(input=[main_input], output=[output])\n",
    "\n",
    "    return model"
   ]
  },
  {
   "cell_type": "code",
   "execution_count": 3,
   "metadata": {
    "ExecuteTime": {
     "end_time": "2020-07-20T07:05:28.338390Z",
     "start_time": "2020-07-20T07:03:48.411296Z"
    }
   },
   "outputs": [
    {
     "name": "stdout",
     "output_type": "stream",
     "text": [
      "x_train:  (8000, 80)\n",
      "y_train:  (8000, 1)\n",
      "x_test:  (2000, 80)\n",
      "y_test:  (2000, 1)\n",
      "WARNING:tensorflow:From c:\\users\\hyojong\\anaconda3\\envs\\ml\\lib\\site-packages\\tensorflow\\python\\ops\\resource_variable_ops.py:435: colocate_with (from tensorflow.python.framework.ops) is deprecated and will be removed in a future version.\n",
      "Instructions for updating:\n",
      "Colocations handled automatically by placer.\n",
      "WARNING:tensorflow:From c:\\users\\hyojong\\anaconda3\\envs\\ml\\lib\\site-packages\\tensorflow\\python\\ops\\math_ops.py:3066: to_int32 (from tensorflow.python.ops.math_ops) is deprecated and will be removed in a future version.\n",
      "Instructions for updating:\n",
      "Use tf.cast instead.\n",
      "Train on 7120 samples, validate on 880 samples\n",
      "Epoch 1/15\n",
      "7120/7120 [==============================] - 7s 1ms/step - loss: 0.9282 - accuracy: 0.5549 - binary_accuracy: 0.5404 - precision: 0.4953 - recall: 0.5526 - fmeasure: 0.5170 - val_loss: 1.0121 - val_accuracy: 0.2852 - val_binary_accuracy: 0.5381 - val_precision: 1.0000 - val_recall: 0.2857 - val_fmeasure: 0.4425\n",
      "Epoch 2/15\n",
      "7120/7120 [==============================] - 6s 885us/step - loss: 0.6977 - accuracy: 0.6656 - binary_accuracy: 0.5576 - precision: 0.6137 - recall: 0.6538 - fmeasure: 0.6268 - val_loss: 1.1913 - val_accuracy: 0.4364 - val_binary_accuracy: 0.5865 - val_precision: 1.0000 - val_recall: 0.4368 - val_fmeasure: 0.6062\n",
      "Epoch 3/15\n",
      "7120/7120 [==============================] - 6s 886us/step - loss: 0.4649 - accuracy: 0.8014 - binary_accuracy: 0.6183 - precision: 0.7719 - recall: 0.7762 - fmeasure: 0.7693 - val_loss: 1.2080 - val_accuracy: 0.5716 - val_binary_accuracy: 0.6485 - val_precision: 1.0000 - val_recall: 0.5729 - val_fmeasure: 0.7263\n",
      "Epoch 4/15\n",
      "7120/7120 [==============================] - 6s 882us/step - loss: 0.3383 - accuracy: 0.8669 - binary_accuracy: 0.6742 - precision: 0.8537 - recall: 0.8437 - fmeasure: 0.8456 - val_loss: 0.8421 - val_accuracy: 0.7125 - val_binary_accuracy: 0.6978 - val_precision: 1.0000 - val_recall: 0.7124 - val_fmeasure: 0.8309\n",
      "Epoch 5/15\n",
      "7120/7120 [==============================] - 6s 885us/step - loss: 0.2923 - accuracy: 0.8875 - binary_accuracy: 0.7165 - precision: 0.8696 - recall: 0.8758 - fmeasure: 0.8696 - val_loss: 1.0605 - val_accuracy: 0.6307 - val_binary_accuracy: 0.7312 - val_precision: 1.0000 - val_recall: 0.6324 - val_fmeasure: 0.7729\n",
      "Epoch 6/15\n",
      "7120/7120 [==============================] - 6s 887us/step - loss: 0.2599 - accuracy: 0.8999 - binary_accuracy: 0.7437 - precision: 0.8814 - recall: 0.8941 - fmeasure: 0.8848 - val_loss: 0.7610 - val_accuracy: 0.7466 - val_binary_accuracy: 0.7558 - val_precision: 1.0000 - val_recall: 0.7470 - val_fmeasure: 0.8541\n",
      "Epoch 7/15\n",
      "7120/7120 [==============================] - 6s 885us/step - loss: 0.2454 - accuracy: 0.9022 - binary_accuracy: 0.7655 - precision: 0.8879 - recall: 0.8924 - fmeasure: 0.8878 - val_loss: 0.7087 - val_accuracy: 0.7636 - val_binary_accuracy: 0.7745 - val_precision: 1.0000 - val_recall: 0.7645 - val_fmeasure: 0.8654\n",
      "Epoch 8/15\n",
      "7120/7120 [==============================] - 6s 881us/step - loss: 0.2300 - accuracy: 0.9100 - binary_accuracy: 0.7825 - precision: 0.8948 - recall: 0.9026 - fmeasure: 0.8959 - val_loss: 1.0825 - val_accuracy: 0.6557 - val_binary_accuracy: 0.7886 - val_precision: 1.0000 - val_recall: 0.6570 - val_fmeasure: 0.7914\n",
      "Epoch 9/15\n",
      "7120/7120 [==============================] - 6s 886us/step - loss: 0.2214 - accuracy: 0.9138 - binary_accuracy: 0.7945 - precision: 0.9032 - recall: 0.9010 - fmeasure: 0.8983 - val_loss: 0.9503 - val_accuracy: 0.6875 - val_binary_accuracy: 0.7997 - val_precision: 1.0000 - val_recall: 0.6894 - val_fmeasure: 0.8140\n",
      "Epoch 10/15\n",
      "7120/7120 [==============================] - 6s 882us/step - loss: 0.2037 - accuracy: 0.9226 - binary_accuracy: 0.8047 - precision: 0.9184 - recall: 0.9069 - fmeasure: 0.9107 - val_loss: 0.8756 - val_accuracy: 0.7057 - val_binary_accuracy: 0.8095 - val_precision: 1.0000 - val_recall: 0.7068 - val_fmeasure: 0.8262\n",
      "Epoch 11/15\n",
      "7120/7120 [==============================] - 6s 886us/step - loss: 0.1967 - accuracy: 0.9242 - binary_accuracy: 0.8138 - precision: 0.9115 - recall: 0.9174 - fmeasure: 0.9118 - val_loss: 0.8177 - val_accuracy: 0.7443 - val_binary_accuracy: 0.8181 - val_precision: 1.0000 - val_recall: 0.7444 - val_fmeasure: 0.8522\n",
      "Epoch 12/15\n",
      "7120/7120 [==============================] - 6s 895us/step - loss: 0.1969 - accuracy: 0.9242 - binary_accuracy: 0.8218 - precision: 0.9175 - recall: 0.9115 - fmeasure: 0.9118 - val_loss: 1.0186 - val_accuracy: 0.6818 - val_binary_accuracy: 0.8249 - val_precision: 1.0000 - val_recall: 0.6838 - val_fmeasure: 0.8103\n",
      "Epoch 13/15\n",
      "7120/7120 [==============================] - 7s 932us/step - loss: 0.1917 - accuracy: 0.9271 - binary_accuracy: 0.8280 - precision: 0.9175 - recall: 0.9181 - fmeasure: 0.9151 - val_loss: 0.8894 - val_accuracy: 0.7068 - val_binary_accuracy: 0.8308 - val_precision: 1.0000 - val_recall: 0.7083 - val_fmeasure: 0.8271\n",
      "Epoch 14/15\n",
      "7120/7120 [==============================] - 6s 896us/step - loss: 0.1810 - accuracy: 0.9348 - binary_accuracy: 0.8339 - precision: 0.9300 - recall: 0.9236 - fmeasure: 0.9244 - val_loss: 1.0231 - val_accuracy: 0.6739 - val_binary_accuracy: 0.8364 - val_precision: 1.0000 - val_recall: 0.6760 - val_fmeasure: 0.8045\n",
      "Epoch 15/15\n",
      "7120/7120 [==============================] - 6s 895us/step - loss: 0.1775 - accuracy: 0.9303 - binary_accuracy: 0.8387 - precision: 0.9205 - recall: 0.9244 - fmeasure: 0.9195 - val_loss: 0.7708 - val_accuracy: 0.7591 - val_binary_accuracy: 0.8411 - val_precision: 1.0000 - val_recall: 0.7600 - val_fmeasure: 0.8618\n"
     ]
    }
   ],
   "source": [
    "# Load data using model preprocessor\n",
    "#x_data, y_data = Preprocessor.load_data_binary(10000)\n",
    "#x_train, x_test, y_train, y_test = model_selection.train_test_split(x_data, y_data, test_size=0.2, random_state=33)\n",
    "x_train, x_test, y_train, y_test = Preprocessor.load_data_binary(10000)\n",
    "\n",
    "# Define Deep Learning Model\n",
    "model = cnn()\n",
    "\n",
    "''' Training phrase '''\n",
    "epochs = 15\n",
    "batch_size = 64\n",
    "adam = Adam(lr=1e-4, beta_1=0.9, beta_2=0.999, epsilon=1e-08, decay=0.0)\n",
    "model.compile(optimizer=adam, loss='binary_crossentropy',\n",
    "              metrics=['accuracy', tf.keras.metrics.BinaryAccuracy(),\n",
    "                       Evaluator.precision, Evaluator.recall, Evaluator.fmeasure])\n",
    "\n",
    "history = model.fit(x_train, y_train, epochs=epochs, batch_size=batch_size, validation_split=0.11)"
   ]
  },
  {
   "cell_type": "code",
   "execution_count": 4,
   "metadata": {
    "ExecuteTime": {
     "end_time": "2020-07-20T07:05:28.850129Z",
     "start_time": "2020-07-20T07:05:28.339390Z"
    }
   },
   "outputs": [],
   "source": [
    "model_json = model.to_json()\n",
    "with open(\"./saved_model/cnn.json\", \"w\") as json_file:\n",
    "    json_file.write(model_json)\n",
    "model.save_weights(\"./saved_model/cnn.h5\")"
   ]
  },
  {
   "cell_type": "code",
   "execution_count": null,
   "metadata": {},
   "outputs": [],
   "source": []
  }
 ],
 "metadata": {
  "kernelspec": {
   "display_name": "Python 3",
   "language": "python",
   "name": "python3"
  },
  "language_info": {
   "codemirror_mode": {
    "name": "ipython",
    "version": 3
   },
   "file_extension": ".py",
   "mimetype": "text/x-python",
   "name": "python",
   "nbconvert_exporter": "python",
   "pygments_lexer": "ipython3",
   "version": "3.7.7"
  },
  "toc": {
   "base_numbering": 1,
   "nav_menu": {},
   "number_sections": true,
   "sideBar": true,
   "skip_h1_title": false,
   "title_cell": "Table of Contents",
   "title_sidebar": "Contents",
   "toc_cell": false,
   "toc_position": {},
   "toc_section_display": true,
   "toc_window_display": false
  }
 },
 "nbformat": 4,
 "nbformat_minor": 4
}
