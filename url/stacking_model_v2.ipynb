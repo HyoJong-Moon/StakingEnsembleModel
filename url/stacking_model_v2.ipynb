{
 "cells": [
  {
   "cell_type": "code",
   "execution_count": 1,
   "metadata": {
    "ExecuteTime": {
     "end_time": "2020-07-22T06:34:26.117868Z",
     "start_time": "2020-07-22T06:34:24.634479Z"
    }
   },
   "outputs": [
    {
     "name": "stderr",
     "output_type": "stream",
     "text": [
      "Using TensorFlow backend.\n"
     ]
    }
   ],
   "source": [
    "# Load Libraries\n",
    "import pandas as pd\n",
    "import numpy as np\n",
    "from numpy import dstack\n",
    "from numpy import argmax\n",
    "import re, os\n",
    "\n",
    "from string import printable\n",
    "from pathlib import Path\n",
    "from IPython.display import SVG\n",
    "import json\n",
    "\n",
    "from sklearn import model_selection\n",
    "from sklearn import model_selection\n",
    "from sklearn.linear_model import LogisticRegression\n",
    "from sklearn.metrics import accuracy_score\n",
    "from sklearn.linear_model import LinearRegression, RidgeCV, LassoCV, Ridge, Lasso\n",
    "from sklearn.model_selection import KFold\n",
    "\n",
    "import tensorflow as tf\n",
    "from tensorflow.python.platform import gfile\n",
    "\n",
    "from keras.models import Sequential, Model, model_from_json, load_model\n",
    "from keras import regularizers\n",
    "from keras.layers.core import Dense, Dropout, Activation, Lambda, Flatten\n",
    "from keras.layers import Input, ELU, LSTM, Embedding, Convolution2D, MaxPooling2D, BatchNormalization, Convolution1D, MaxPooling1D, concatenate\n",
    "from keras.preprocessing import sequence\n",
    "from keras.optimizers import SGD, Adam, RMSprop\n",
    "from keras.utils import np_utils\n",
    "from keras import backend as K\n",
    "from keras.utils.vis_utils import model_to_dot\n",
    "from keras.utils import plot_model\n",
    "from keras.utils import to_categorical\n",
    "from keras.models import model_from_json\n",
    "\n",
    "from model_preprocessor import Preprocessor\n",
    "\n",
    "import warnings\n",
    "warnings.filterwarnings(\"ignore\")\n",
    "config = tf.ConfigProto()\n",
    "config.gpu_options.per_process_gpu_memory_fraction = 0.9\n",
    "K.tensorflow_backend.set_session(tf.Session(config=config))"
   ]
  },
  {
   "cell_type": "code",
   "execution_count": 2,
   "metadata": {
    "ExecuteTime": {
     "end_time": "2020-07-22T06:34:26.122869Z",
     "start_time": "2020-07-22T06:34:26.118867Z"
    }
   },
   "outputs": [],
   "source": [
    "# General save model to disk function\n",
    "def save_model(fileModelJSON, fileWeights):\n",
    "    if Path(fileModelJSON).is_file():\n",
    "        os.remove(fileModelJSON)\n",
    "    json_string = stacked_model.to_json()\n",
    "    with open(fileModelJSON, 'w') as f:\n",
    "        json.dump(json_string, f)\n",
    "    if Path(fileWeights).is_file():\n",
    "        os.remove(fileWeights)\n",
    "    stacked_model.save_weights(fileWeights)\n",
    "\n",
    "def load_models(fileModelJSON, fileWeights):\n",
    "    with open(fileModelJSON, 'r') as f:\n",
    "        model_json = f.read()\n",
    "        model = model_from_json(model_json)\n",
    "        f.close()\n",
    "    model.load_weights(fileWeights)\n",
    "    return model"
   ]
  },
  {
   "cell_type": "code",
   "execution_count": 3,
   "metadata": {
    "ExecuteTime": {
     "end_time": "2020-07-22T06:34:26.233789Z",
     "start_time": "2020-07-22T06:34:26.123868Z"
    }
   },
   "outputs": [],
   "source": [
    "def define_stacked_model(members):\n",
    "    # update all layers in all models to not be trainable\n",
    "    for i in range(len(members)):\n",
    "        model = members[i]\n",
    "        for layer in model.layers:\n",
    "            # make not trainable\n",
    "            layer.trainable = False\n",
    "            # rename to avoid 'unique layer name' issue\n",
    "            layer.name = 'ensemble_' + str(i+1) + '_' + layer.name\n",
    "    # define multi-headed input\n",
    "    ensemble_visible = [model.input for model in members]\n",
    "    # concatenate merge output from each model\n",
    "    ensemble_outputs = [model.output for model in members]\n",
    "\n",
    "    merge = concatenate(ensemble_outputs, name='final_input')\n",
    "    hidden = Dense(10, activation='relu')(merge)\n",
    "    output = Dense(1, activation='sigmoid', name='final_output')(hidden)\n",
    "    model = Model(inputs=ensemble_visible, outputs=output)\n",
    "    model.compile(loss='binary_crossentropy',optimizer='adam',metrics=['accuracy'])\n",
    "    return model\n",
    "\n",
    "    # fit a stacked model\n",
    "def fit_stacked_model(model, inputX, inputy):\n",
    "    # prepare input data\n",
    "    X = [inputX for _ in range(len(model.input))]\n",
    "    # encode output data\n",
    "\n",
    "    # fit model\n",
    "    model.fit(X, inputy, epochs=10, batch_size=64)\n",
    "\n",
    "# make a prediction with a stacked model\n",
    "def predict_stacked_model(model, inputX):\n",
    "    # prepare input data\n",
    "    X = [inputX for _ in range(len(model.input))]\n",
    "    # make prediction\n",
    "    return model.predict(X, verbose=0)"
   ]
  },
  {
   "cell_type": "code",
   "execution_count": 4,
   "metadata": {
    "ExecuteTime": {
     "end_time": "2020-07-22T06:34:31.101640Z",
     "start_time": "2020-07-22T06:34:27.440367Z"
    }
   },
   "outputs": [
    {
     "name": "stdout",
     "output_type": "stream",
     "text": [
      "                                                       url    label  class\n",
      "959697                                           oozol.com     spam      2\n",
      "435991                   https://pastebin.com/raw/adTFwSQL  malware      1\n",
      "700809   http://sse.dev.kebbeit.lv/wp-includes/esp/4s8n...  malware      1\n",
      "302195                   http://greencolb.com/DOC/zioc.exe  malware      1\n",
      "702770   http://abuhammarhair.com/wp-content/1letc-4xbn...  malware      1\n",
      "...                                                    ...      ...    ...\n",
      "1543156  http://www.sreekamakshisilks.com/newsletter-EE...  malware      1\n",
      "685647                                 gomedprepare.com.ua     spam      2\n",
      "455385   http://moredetey.com/wp-admin/includes/I09-764...  malware      1\n",
      "1381114      http://ptgut.co.id/test/verif.myacc.send.com/  malware      1\n",
      "969227   https://gxzncd.com/a/about/gongsijianjie/gongs...  malware      1\n",
      "\n",
      "[5000 rows x 3 columns]\n",
      "x_train:  (8000, 80)\n",
      "y_train:  (8000, 1)\n",
      "x_test:  (2000, 80)\n",
      "y_test:  (2000, 1)\n",
      "##################\n",
      "Data preprocessing\n",
      "WARNING:tensorflow:From c:\\users\\hyojong\\anaconda3\\envs\\ml\\lib\\site-packages\\tensorflow\\python\\ops\\resource_variable_ops.py:435: colocate_with (from tensorflow.python.framework.ops) is deprecated and will be removed in a future version.\n",
      "Instructions for updating:\n",
      "Colocations handled automatically by placer.\n"
     ]
    }
   ],
   "source": [
    "# Load data\n",
    "x_train, x_test, y_train, y_test = Preprocessor.load_data_binary(10000)\n",
    "\n",
    "print(\"##################\")\n",
    "print(\"Data preprocessing\")\n",
    "\n",
    "models_dir = \"./saved_model/\"\n",
    "CNNModel = load_models(models_dir + \"cnn.json\", models_dir + \"cnn.h5\")\n",
    "LSTMModel = load_models(models_dir + \"lstm.json\", models_dir + \"lstm.h5\")\n",
    "GRUModel = load_models(models_dir + \"gru.json\", models_dir + \"gru.h5\")\n",
    "\n",
    "adam = Adam(lr=1e-4, beta_1=0.9, beta_2=0.999, epsilon=1e-08, decay=0.0)\n",
    "\n",
    "CNNModel.compile(optimizer=adam, loss='binary_crossentropy', metrics=['accuracy'])\n",
    "LSTMModel.compile(optimizer=adam, loss='binary_crossentropy', metrics=['accuracy'])\n",
    "GRUModel.compile(optimizer=adam, loss='binary_crossentropy', metrics=['accuracy'])\n",
    "\n",
    "members = list()\n",
    "members.append(CNNModel)\n",
    "members.append(LSTMModel)\n",
    "members.append(GRUModel)\n"
   ]
  },
  {
   "cell_type": "code",
   "execution_count": 5,
   "metadata": {
    "ExecuteTime": {
     "end_time": "2020-07-22T06:34:34.275859Z",
     "start_time": "2020-07-22T06:34:34.111315Z"
    }
   },
   "outputs": [
    {
     "ename": "TypeError",
     "evalue": "Input layers to a `Model` must be `InputLayer` objects. Received inputs: [<tf.Tensor 'cnn_input:0' shape=(?, 80) dtype=int32>, <tf.Tensor 'lstm_input:0' shape=(?, 80) dtype=int32>, <tf.Tensor 'gru_input:0' shape=(?, 80) dtype=int32>, <tf.Tensor 'final_input/concat:0' shape=(?, 3) dtype=float32>]. Input 3 (0-based) originates from layer type `Concatenate`.",
     "output_type": "error",
     "traceback": [
      "\u001b[1;31m---------------------------------------------------------------------------\u001b[0m",
      "\u001b[1;31mTypeError\u001b[0m                                 Traceback (most recent call last)",
      "\u001b[1;32m<ipython-input-5-4be4ebe591e8>\u001b[0m in \u001b[0;36m<module>\u001b[1;34m\u001b[0m\n\u001b[0;32m      1\u001b[0m \u001b[1;31m# define ensemble model\u001b[0m\u001b[1;33m\u001b[0m\u001b[1;33m\u001b[0m\u001b[1;33m\u001b[0m\u001b[0m\n\u001b[1;32m----> 2\u001b[1;33m \u001b[0mstacked_model\u001b[0m \u001b[1;33m=\u001b[0m \u001b[0mdefine_stacked_model\u001b[0m\u001b[1;33m(\u001b[0m\u001b[0mmembers\u001b[0m\u001b[1;33m)\u001b[0m\u001b[1;33m\u001b[0m\u001b[1;33m\u001b[0m\u001b[0m\n\u001b[0m\u001b[0;32m      3\u001b[0m \u001b[1;33m\u001b[0m\u001b[0m\n\u001b[0;32m      4\u001b[0m \u001b[0mprint\u001b[0m\u001b[1;33m(\u001b[0m\u001b[1;34m\"################################\"\u001b[0m\u001b[1;33m)\u001b[0m\u001b[1;33m\u001b[0m\u001b[1;33m\u001b[0m\u001b[0m\n\u001b[0;32m      5\u001b[0m \u001b[0mprint\u001b[0m\u001b[1;33m(\u001b[0m\u001b[1;34m\"Complete Define Stacked Model!!\"\u001b[0m\u001b[1;33m)\u001b[0m\u001b[1;33m\u001b[0m\u001b[1;33m\u001b[0m\u001b[0m\n",
      "\u001b[1;32m<ipython-input-3-6783b7b7183d>\u001b[0m in \u001b[0;36mdefine_stacked_model\u001b[1;34m(members)\u001b[0m\n\u001b[0;32m     17\u001b[0m     \u001b[0moutput\u001b[0m \u001b[1;33m=\u001b[0m \u001b[0mDense\u001b[0m\u001b[1;33m(\u001b[0m\u001b[1;36m1\u001b[0m\u001b[1;33m,\u001b[0m \u001b[0mactivation\u001b[0m\u001b[1;33m=\u001b[0m\u001b[1;34m'sigmoid'\u001b[0m\u001b[1;33m,\u001b[0m \u001b[0mname\u001b[0m\u001b[1;33m=\u001b[0m\u001b[1;34m'final_output'\u001b[0m\u001b[1;33m)\u001b[0m\u001b[1;33m(\u001b[0m\u001b[0mhidden\u001b[0m\u001b[1;33m)\u001b[0m\u001b[1;33m\u001b[0m\u001b[1;33m\u001b[0m\u001b[0m\n\u001b[0;32m     18\u001b[0m     \u001b[0mensemble_visible\u001b[0m\u001b[1;33m.\u001b[0m\u001b[0mappend\u001b[0m\u001b[1;33m(\u001b[0m\u001b[0mmerge\u001b[0m\u001b[1;33m)\u001b[0m\u001b[1;33m\u001b[0m\u001b[1;33m\u001b[0m\u001b[0m\n\u001b[1;32m---> 19\u001b[1;33m     \u001b[0mmodel\u001b[0m \u001b[1;33m=\u001b[0m \u001b[0mModel\u001b[0m\u001b[1;33m(\u001b[0m\u001b[0minputs\u001b[0m\u001b[1;33m=\u001b[0m\u001b[0mensemble_visible\u001b[0m\u001b[1;33m,\u001b[0m \u001b[0moutputs\u001b[0m\u001b[1;33m=\u001b[0m\u001b[0moutput\u001b[0m\u001b[1;33m)\u001b[0m\u001b[1;33m\u001b[0m\u001b[1;33m\u001b[0m\u001b[0m\n\u001b[0m\u001b[0;32m     20\u001b[0m     \u001b[0mmodel\u001b[0m\u001b[1;33m.\u001b[0m\u001b[0mcompile\u001b[0m\u001b[1;33m(\u001b[0m\u001b[0mloss\u001b[0m\u001b[1;33m=\u001b[0m\u001b[1;34m'binary_crossentropy'\u001b[0m\u001b[1;33m,\u001b[0m\u001b[0moptimizer\u001b[0m\u001b[1;33m=\u001b[0m\u001b[1;34m'adam'\u001b[0m\u001b[1;33m,\u001b[0m\u001b[0mmetrics\u001b[0m\u001b[1;33m=\u001b[0m\u001b[1;33m[\u001b[0m\u001b[1;34m'accuracy'\u001b[0m\u001b[1;33m]\u001b[0m\u001b[1;33m)\u001b[0m\u001b[1;33m\u001b[0m\u001b[1;33m\u001b[0m\u001b[0m\n\u001b[0;32m     21\u001b[0m     \u001b[1;32mreturn\u001b[0m \u001b[0mmodel\u001b[0m\u001b[1;33m\u001b[0m\u001b[1;33m\u001b[0m\u001b[0m\n",
      "\u001b[1;32mc:\\users\\hyojong\\anaconda3\\envs\\ml\\lib\\site-packages\\keras\\legacy\\interfaces.py\u001b[0m in \u001b[0;36mwrapper\u001b[1;34m(*args, **kwargs)\u001b[0m\n\u001b[0;32m     89\u001b[0m                 warnings.warn('Update your `' + object_name + '` call to the ' +\n\u001b[0;32m     90\u001b[0m                               'Keras 2 API: ' + signature, stacklevel=2)\n\u001b[1;32m---> 91\u001b[1;33m             \u001b[1;32mreturn\u001b[0m \u001b[0mfunc\u001b[0m\u001b[1;33m(\u001b[0m\u001b[1;33m*\u001b[0m\u001b[0margs\u001b[0m\u001b[1;33m,\u001b[0m \u001b[1;33m**\u001b[0m\u001b[0mkwargs\u001b[0m\u001b[1;33m)\u001b[0m\u001b[1;33m\u001b[0m\u001b[1;33m\u001b[0m\u001b[0m\n\u001b[0m\u001b[0;32m     92\u001b[0m         \u001b[0mwrapper\u001b[0m\u001b[1;33m.\u001b[0m\u001b[0m_original_function\u001b[0m \u001b[1;33m=\u001b[0m \u001b[0mfunc\u001b[0m\u001b[1;33m\u001b[0m\u001b[1;33m\u001b[0m\u001b[0m\n\u001b[0;32m     93\u001b[0m         \u001b[1;32mreturn\u001b[0m \u001b[0mwrapper\u001b[0m\u001b[1;33m\u001b[0m\u001b[1;33m\u001b[0m\u001b[0m\n",
      "\u001b[1;32mc:\\users\\hyojong\\anaconda3\\envs\\ml\\lib\\site-packages\\keras\\engine\\network.py\u001b[0m in \u001b[0;36m__init__\u001b[1;34m(self, *args, **kwargs)\u001b[0m\n\u001b[0;32m     92\u001b[0m                 'inputs' in kwargs and 'outputs' in kwargs):\n\u001b[0;32m     93\u001b[0m             \u001b[1;31m# Graph network\u001b[0m\u001b[1;33m\u001b[0m\u001b[1;33m\u001b[0m\u001b[1;33m\u001b[0m\u001b[0m\n\u001b[1;32m---> 94\u001b[1;33m             \u001b[0mself\u001b[0m\u001b[1;33m.\u001b[0m\u001b[0m_init_graph_network\u001b[0m\u001b[1;33m(\u001b[0m\u001b[1;33m*\u001b[0m\u001b[0margs\u001b[0m\u001b[1;33m,\u001b[0m \u001b[1;33m**\u001b[0m\u001b[0mkwargs\u001b[0m\u001b[1;33m)\u001b[0m\u001b[1;33m\u001b[0m\u001b[1;33m\u001b[0m\u001b[0m\n\u001b[0m\u001b[0;32m     95\u001b[0m         \u001b[1;32melse\u001b[0m\u001b[1;33m:\u001b[0m\u001b[1;33m\u001b[0m\u001b[1;33m\u001b[0m\u001b[0m\n\u001b[0;32m     96\u001b[0m             \u001b[1;31m# Subclassed network\u001b[0m\u001b[1;33m\u001b[0m\u001b[1;33m\u001b[0m\u001b[1;33m\u001b[0m\u001b[0m\n",
      "\u001b[1;32mc:\\users\\hyojong\\anaconda3\\envs\\ml\\lib\\site-packages\\keras\\engine\\network.py\u001b[0m in \u001b[0;36m_init_graph_network\u001b[1;34m(self, inputs, outputs, name, **kwargs)\u001b[0m\n\u001b[0;32m    291\u001b[0m                     'from layer type `{}`.'.format(inputs,\n\u001b[0;32m    292\u001b[0m                                                    \u001b[0mi\u001b[0m\u001b[1;33m,\u001b[0m\u001b[1;33m\u001b[0m\u001b[1;33m\u001b[0m\u001b[0m\n\u001b[1;32m--> 293\u001b[1;33m                                                    layer.__class__.__name__))\n\u001b[0m\u001b[0;32m    294\u001b[0m             \u001b[0mself\u001b[0m\u001b[1;33m.\u001b[0m\u001b[0minput_names\u001b[0m\u001b[1;33m.\u001b[0m\u001b[0mappend\u001b[0m\u001b[1;33m(\u001b[0m\u001b[0mlayer\u001b[0m\u001b[1;33m.\u001b[0m\u001b[0mname\u001b[0m\u001b[1;33m)\u001b[0m\u001b[1;33m\u001b[0m\u001b[1;33m\u001b[0m\u001b[0m\n\u001b[0;32m    295\u001b[0m             \u001b[1;32mif\u001b[0m \u001b[0mlayer\u001b[0m\u001b[1;33m.\u001b[0m\u001b[0mis_placeholder\u001b[0m\u001b[1;33m:\u001b[0m\u001b[1;33m\u001b[0m\u001b[1;33m\u001b[0m\u001b[0m\n",
      "\u001b[1;31mTypeError\u001b[0m: Input layers to a `Model` must be `InputLayer` objects. Received inputs: [<tf.Tensor 'cnn_input:0' shape=(?, 80) dtype=int32>, <tf.Tensor 'lstm_input:0' shape=(?, 80) dtype=int32>, <tf.Tensor 'gru_input:0' shape=(?, 80) dtype=int32>, <tf.Tensor 'final_input/concat:0' shape=(?, 3) dtype=float32>]. Input 3 (0-based) originates from layer type `Concatenate`."
     ]
    }
   ],
   "source": [
    "# define ensemble model\n",
    "stacked_model = define_stacked_model(members)\n",
    "\n",
    "print(\"################################\")\n",
    "print(\"Complete Define Stacked Model!!\") \n",
    "\n",
    "# fit stacked model on test dataset\n",
    "print(\"#################################\")\n",
    "print(\"Start training!!!!\")\n",
    "\n",
    "fit_stacked_model(stacked_model, x_train, y_train)\n",
    "print(\"Complete Train Stacked Model!!\")"
   ]
  },
  {
   "cell_type": "code",
   "execution_count": null,
   "metadata": {
    "ExecuteTime": {
     "end_time": "2020-07-22T06:28:48.079409Z",
     "start_time": "2020-07-22T06:28:43.202Z"
    }
   },
   "outputs": [],
   "source": [
    "# make predictions and evaluate\n",
    "yhat = predict_stacked_model(stacked_model, x_test)\n",
    "#yhat = argmax(yhat, axis=1)\n",
    "print(yhat)\n",
    "# Save test result\n",
    "from sklearn.metrics import classification_report\n",
    "print(classification_report(y_test, yhat.round(), target_names=['benign', 'malicious']))"
   ]
  },
  {
   "cell_type": "code",
   "execution_count": null,
   "metadata": {
    "ExecuteTime": {
     "end_time": "2020-07-22T06:28:48.079409Z",
     "start_time": "2020-07-22T06:28:43.694Z"
    }
   },
   "outputs": [],
   "source": [
    "for model in members:\n",
    "    _, acc = model.evaluate(x_test, y_test, verbose=0)\n",
    "    print('Model Accuracy: %.3f' % acc)\n",
    "\n",
    "X = [x_test for _ in range(len(stacked_model.input))]\n",
    "stacked_model.evaluate(X, y_test)"
   ]
  },
  {
   "cell_type": "code",
   "execution_count": null,
   "metadata": {
    "ExecuteTime": {
     "end_time": "2020-07-22T06:28:48.080409Z",
     "start_time": "2020-07-22T06:28:44.018Z"
    }
   },
   "outputs": [],
   "source": [
    "print(stacked_model.input)\n",
    "print(stacked_model.output)\n",
    "print(stacked_model.summary())"
   ]
  },
  {
   "cell_type": "code",
   "execution_count": null,
   "metadata": {
    "ExecuteTime": {
     "end_time": "2020-07-22T06:28:48.080409Z",
     "start_time": "2020-07-22T06:28:44.460Z"
    }
   },
   "outputs": [],
   "source": [
    "from keras import backend as K\n",
    "\n",
    "sess = K.get_session()\n",
    "init = tf.global_variables_initializer()\n",
    "sess.run(init)\n",
    "\n",
    "builder = tf.saved_model.builder.SavedModelBuilder(\"./output/model\")\n",
    "builder.add_meta_graph_and_variables(sess, [tf.saved_model.tag_constants.SERVING])\n",
    "builder.save()"
   ]
  },
  {
   "cell_type": "code",
   "execution_count": null,
   "metadata": {
    "ExecuteTime": {
     "end_time": "2020-07-22T06:17:48.527849Z",
     "start_time": "2020-07-22T06:17:48.525801Z"
    }
   },
   "outputs": [],
   "source": [
    "print(stacked_model.input)"
   ]
  },
  {
   "cell_type": "code",
   "execution_count": null,
   "metadata": {},
   "outputs": [],
   "source": []
  }
 ],
 "metadata": {
  "kernelspec": {
   "display_name": "Python 3",
   "language": "python",
   "name": "python3"
  },
  "language_info": {
   "codemirror_mode": {
    "name": "ipython",
    "version": 3
   },
   "file_extension": ".py",
   "mimetype": "text/x-python",
   "name": "python",
   "nbconvert_exporter": "python",
   "pygments_lexer": "ipython3",
   "version": "3.7.7"
  },
  "toc": {
   "base_numbering": 1,
   "nav_menu": {},
   "number_sections": true,
   "sideBar": true,
   "skip_h1_title": false,
   "title_cell": "Table of Contents",
   "title_sidebar": "Contents",
   "toc_cell": false,
   "toc_position": {},
   "toc_section_display": true,
   "toc_window_display": false
  }
 },
 "nbformat": 4,
 "nbformat_minor": 4
}
