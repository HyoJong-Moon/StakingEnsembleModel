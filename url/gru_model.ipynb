{
 "cells": [
  {
   "cell_type": "code",
   "execution_count": 1,
   "metadata": {
    "ExecuteTime": {
     "end_time": "2020-07-20T07:10:29.216438Z",
     "start_time": "2020-07-20T07:10:27.562686Z"
    }
   },
   "outputs": [
    {
     "name": "stderr",
     "output_type": "stream",
     "text": [
      "Using TensorFlow backend.\n"
     ]
    }
   ],
   "source": [
    "# Load Libraries\n",
    "import warnings\n",
    "import keras\n",
    "import tensorflow as tf\n",
    "from keras import backend as K\n",
    "from keras import regularizers\n",
    "from keras.layers import Input, ELU, Embedding, BatchNormalization\n",
    "from keras.models import Model\n",
    "from keras.optimizers import Adam\n",
    "from keras.layers import Embedding, GRU\n",
    "from keras.layers.core import Dense, Dropout, Flatten\n",
    "\n",
    "from model_evaluator import Evaluator\n",
    "from model_preprocessor import Preprocessor"
   ]
  },
  {
   "cell_type": "code",
   "execution_count": 2,
   "metadata": {
    "ExecuteTime": {
     "end_time": "2020-07-20T07:10:29.222441Z",
     "start_time": "2020-07-20T07:10:29.217439Z"
    }
   },
   "outputs": [],
   "source": [
    "# LSTM Model\n",
    "def gru(max_len=80, emb_dim=32, max_vocab_len=128, W_reg=regularizers.l2(1e-4)):\n",
    "    \"\"\"LSTM with Attention model with the Keras Sequential model\"\"\"\n",
    "\n",
    "    input = Input(shape=(max_len,), dtype='int32', name='gru_input')\n",
    "    \n",
    "    emb = Embedding(input_dim=max_vocab_len, output_dim=emb_dim, input_length=max_len, W_regularizer=W_reg)(input)\n",
    "    emb = Dropout(0.2)(emb)\n",
    "    \n",
    "    lstm = GRU(units=128, return_sequences=True)(emb)\n",
    "    lstm = Dropout(0.5)(lstm)\n",
    "    lstm = Flatten()(lstm)\n",
    "    \n",
    "    h1 = Dense(8576, activation='relu')(lstm)\n",
    "    h1 = Dropout(0.5)(h1)\n",
    "    \n",
    "    output = Dense(1, activation='sigmoid', name='gru_output')(h1)\n",
    "    \n",
    "    model = Model(input=[input], output=[output])\n",
    "   \n",
    "    return model"
   ]
  },
  {
   "cell_type": "code",
   "execution_count": 3,
   "metadata": {
    "ExecuteTime": {
     "end_time": "2020-07-20T07:10:30.809415Z",
     "start_time": "2020-07-20T07:10:29.223441Z"
    }
   },
   "outputs": [
    {
     "name": "stdout",
     "output_type": "stream",
     "text": [
      "                                                       url    label  class\n",
      "282377   https://pmpawarbounces.duoliprudential.com.wat...  malware      1\n",
      "1210677                 http://211.137.225.68:53803/Mozi.m  malware      1\n",
      "240450            http://104.168.146.56:80/bins/kalon.m68k  malware      1\n",
      "889081   http://ranmureed.com/sitemaps/Document/5jpoott...  malware      1\n",
      "233629                  http://111.43.223.154:39690/Mozi.m  malware      1\n",
      "x_train:  (8000, 80)\n",
      "y_train:  (8000, 1)\n",
      "x_test:  (2000, 80)\n",
      "y_test:  (2000, 1)\n"
     ]
    }
   ],
   "source": [
    "x_train, x_test, y_train, y_test = Preprocessor.load_data_binary(10000)"
   ]
  },
  {
   "cell_type": "code",
   "execution_count": 4,
   "metadata": {
    "ExecuteTime": {
     "end_time": "2020-07-20T07:19:40.817458Z",
     "start_time": "2020-07-20T07:10:30.810415Z"
    }
   },
   "outputs": [
    {
     "name": "stdout",
     "output_type": "stream",
     "text": [
      "WARNING:tensorflow:From c:\\users\\hyojong\\anaconda3\\envs\\ml\\lib\\site-packages\\tensorflow\\python\\ops\\resource_variable_ops.py:435: colocate_with (from tensorflow.python.framework.ops) is deprecated and will be removed in a future version.\n",
      "Instructions for updating:\n",
      "Colocations handled automatically by placer.\n"
     ]
    },
    {
     "name": "stderr",
     "output_type": "stream",
     "text": [
      "c:\\users\\hyojong\\anaconda3\\envs\\ml\\lib\\site-packages\\ipykernel_launcher.py:7: UserWarning: Update your `Embedding` call to the Keras 2 API: `Embedding(input_dim=128, output_dim=32, input_length=80, embeddings_regularizer=<keras.reg...)`\n",
      "  import sys\n"
     ]
    },
    {
     "name": "stdout",
     "output_type": "stream",
     "text": [
      "WARNING:tensorflow:From c:\\users\\hyojong\\anaconda3\\envs\\ml\\lib\\site-packages\\tensorflow\\python\\ops\\math_ops.py:3066: to_int32 (from tensorflow.python.ops.math_ops) is deprecated and will be removed in a future version.\n",
      "Instructions for updating:\n",
      "Use tf.cast instead.\n"
     ]
    },
    {
     "name": "stderr",
     "output_type": "stream",
     "text": [
      "c:\\users\\hyojong\\anaconda3\\envs\\ml\\lib\\site-packages\\ipykernel_launcher.py:19: UserWarning: Update your `Model` call to the Keras 2 API: `Model(inputs=[<tf.Tenso..., outputs=[<tf.Tenso...)`\n"
     ]
    },
    {
     "name": "stdout",
     "output_type": "stream",
     "text": [
      "Train on 7120 samples, validate on 880 samples\n",
      "Epoch 1/5\n",
      "7120/7120 [==============================] - 110s 15ms/step - loss: 0.4196 - accuracy: 0.8032 - binary_accuracy: 0.7061 - precision: 0.8136 - recall: 0.6455 - fmeasure: 0.6928 - val_loss: 0.2079 - val_accuracy: 0.9182 - val_binary_accuracy: 0.8103 - val_precision: 1.0000 - val_recall: 0.9185 - val_fmeasure: 0.9573\n",
      "Epoch 2/5\n",
      "7120/7120 [==============================] - 109s 15ms/step - loss: 0.1900 - accuracy: 0.9232 - binary_accuracy: 0.8449 - precision: 0.9236 - recall: 0.8989 - fmeasure: 0.9096 - val_loss: 0.2202 - val_accuracy: 0.9170 - val_binary_accuracy: 0.8681 - val_precision: 1.0000 - val_recall: 0.9174 - val_fmeasure: 0.9567\n",
      "Epoch 3/5\n",
      "7120/7120 [==============================] - 109s 15ms/step - loss: 0.1530 - accuracy: 0.9410 - binary_accuracy: 0.8817 - precision: 0.9391 - recall: 0.9281 - fmeasure: 0.9322 - val_loss: 0.1506 - val_accuracy: 0.9489 - val_binary_accuracy: 0.8925 - val_precision: 1.0000 - val_recall: 0.9494 - val_fmeasure: 0.9739\n",
      "Epoch 4/5\n",
      "7120/7120 [==============================] - 110s 15ms/step - loss: 0.1395 - accuracy: 0.9444 - binary_accuracy: 0.8996 - precision: 0.9422 - recall: 0.9314 - fmeasure: 0.9350 - val_loss: 0.1721 - val_accuracy: 0.9409 - val_binary_accuracy: 0.9057 - val_precision: 1.0000 - val_recall: 0.9416 - val_fmeasure: 0.9698\n",
      "Epoch 5/5\n",
      "7120/7120 [==============================] - 109s 15ms/step - loss: 0.1233 - accuracy: 0.9541 - binary_accuracy: 0.9106 - precision: 0.9520 - recall: 0.9431 - fmeasure: 0.9463 - val_loss: 0.1202 - val_accuracy: 0.9568 - val_binary_accuracy: 0.9153 - val_precision: 1.0000 - val_recall: 0.9572 - val_fmeasure: 0.9780\n"
     ]
    },
    {
     "data": {
      "text/plain": [
       "<keras.callbacks.callbacks.History at 0x1b661df5e08>"
      ]
     },
     "execution_count": 4,
     "metadata": {},
     "output_type": "execute_result"
    }
   ],
   "source": [
    "epochs = 5\n",
    "batch_size = 64\n",
    "\n",
    "model = gru()\n",
    "adam = Adam(lr=1e-4, beta_1=0.9, beta_2=0.999, epsilon=1e-08, decay=0.0)\n",
    "model.compile(optimizer=adam, loss='binary_crossentropy',\n",
    "              metrics=['accuracy', tf.keras.metrics.BinaryAccuracy(),\n",
    "                       Evaluator.precision, Evaluator.recall, Evaluator.fmeasure])\n",
    "\n",
    "model.fit(x_train, y_train, epochs=epochs, batch_size=batch_size, validation_split=0.11)"
   ]
  },
  {
   "cell_type": "code",
   "execution_count": 5,
   "metadata": {
    "ExecuteTime": {
     "end_time": "2020-07-20T07:19:41.388150Z",
     "start_time": "2020-07-20T07:19:40.818458Z"
    }
   },
   "outputs": [],
   "source": [
    "model_json = model.to_json()\n",
    "with open(\"./saved_model/gru.json\", \"w\") as json_file:\n",
    "    json_file.write(model_json)\n",
    "model.save_weights(\"./saved_model/gru.h5\")"
   ]
  },
  {
   "cell_type": "code",
   "execution_count": null,
   "metadata": {},
   "outputs": [],
   "source": []
  }
 ],
 "metadata": {
  "kernelspec": {
   "display_name": "Python 3",
   "language": "python",
   "name": "python3"
  },
  "language_info": {
   "codemirror_mode": {
    "name": "ipython",
    "version": 3
   },
   "file_extension": ".py",
   "mimetype": "text/x-python",
   "name": "python",
   "nbconvert_exporter": "python",
   "pygments_lexer": "ipython3",
   "version": "3.7.7"
  },
  "toc": {
   "base_numbering": 1,
   "nav_menu": {},
   "number_sections": true,
   "sideBar": true,
   "skip_h1_title": false,
   "title_cell": "Table of Contents",
   "title_sidebar": "Contents",
   "toc_cell": false,
   "toc_position": {},
   "toc_section_display": true,
   "toc_window_display": false
  }
 },
 "nbformat": 4,
 "nbformat_minor": 4
}
